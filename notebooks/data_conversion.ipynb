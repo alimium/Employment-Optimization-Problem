{
 "cells": [
  {
   "cell_type": "code",
   "execution_count": 376,
   "metadata": {},
   "outputs": [],
   "source": [
    "# Imports\n",
    "import pandas as pd\n",
    "import numpy as np\n",
    "import matplotlib.pyplot as plt"
   ]
  },
  {
   "cell_type": "code",
   "execution_count": 389,
   "metadata": {},
   "outputs": [],
   "source": [
    "# Read in the data\n",
    "portions = pd.read_excel('portions.xlsx', index_col='date', parse_dates=True)\n",
    "work_hours = pd.read_excel('work_hours.xlsx', index_col='key', parse_dates=True, usecols='A:AF')\n",
    "employees = pd.read_excel('work_hours.xlsx',sheet_name='employee', index_col='key', usecols='C,F')\n",
    "wages = pd.read_excel('wages.xlsx', index_col='key', usecols=['key', 'wage'])\n",
    "employees = pd.concat([employees, wages], axis=1)"
   ]
  },
  {
   "cell_type": "code",
   "execution_count": null,
   "metadata": {},
   "outputs": [],
   "source": [
    "# Convert all fields to minutes\n",
    "for col in work_hours.columns:\n",
    "    work_hours[col] = work_hours[col].apply(lambda x: x.hour*60 + x.minute)\n",
    "work_hours.head()"
   ]
  },
  {
   "cell_type": "code",
   "execution_count": 391,
   "metadata": {},
   "outputs": [],
   "source": [
    "# overtime work hours\n",
    "overtime_work_hours = work_hours.copy()\n",
    "\n",
    "# normal work hours\n",
    "normal_work_hours = work_hours.copy()\n",
    "\n",
    "for col in normal_work_hours.columns:\n",
    "    if col.weekday() in [6,0]:\n",
    "        normal_work_hours[col] = 0\n",
    "    else:\n",
    "        normal_work_hours[col] = 8*60\n"
   ]
  },
  {
   "cell_type": "code",
   "execution_count": 392,
   "metadata": {},
   "outputs": [],
   "source": [
    "# Output frames to csv\n",
    "portions.to_csv('portions.csv')\n",
    "normal_work_hours.to_csv('work_hours_normal.csv')\n",
    "overtime_work_hours.to_csv('work_hours_overtime.csv')\n",
    "employees.to_csv('employees.csv')"
   ]
  }
 ],
 "metadata": {
  "kernelspec": {
   "display_name": "lin_opt",
   "language": "python",
   "name": "python3"
  },
  "language_info": {
   "codemirror_mode": {
    "name": "ipython",
    "version": 3
   },
   "file_extension": ".py",
   "mimetype": "text/x-python",
   "name": "python",
   "nbconvert_exporter": "python",
   "pygments_lexer": "ipython3",
   "version": "3.8.15 | packaged by conda-forge | (default, Nov 22 2022, 08:49:06) \n[Clang 14.0.6 ]"
  },
  "orig_nbformat": 4,
  "vscode": {
   "interpreter": {
    "hash": "345842b8d5f1243713e71f72b8f6a510645b3f72992289f959e1f230ea23600c"
   }
  }
 },
 "nbformat": 4,
 "nbformat_minor": 2
}
