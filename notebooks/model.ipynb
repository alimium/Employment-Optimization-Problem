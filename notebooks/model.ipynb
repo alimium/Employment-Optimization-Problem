{
 "cells": [
  {
   "cell_type": "code",
   "execution_count": 1,
   "metadata": {},
   "outputs": [],
   "source": [
    "import pandas as pd\n",
    "import numpy as np\n",
    "import matplotlib.pyplot as plt\n",
    "import plotly.express as px\n",
    "import plotly.figure_factory as ff\n",
    "import plotly.graph_objects as go"
   ]
  },
  {
   "cell_type": "code",
   "execution_count": 2,
   "metadata": {},
   "outputs": [
    {
     "data": {
      "text/html": [
       "<div>\n",
       "<style scoped>\n",
       "    .dataframe tbody tr th:only-of-type {\n",
       "        vertical-align: middle;\n",
       "    }\n",
       "\n",
       "    .dataframe tbody tr th {\n",
       "        vertical-align: top;\n",
       "    }\n",
       "\n",
       "    .dataframe thead th {\n",
       "        text-align: right;\n",
       "    }\n",
       "</style>\n",
       "<table border=\"1\" class=\"dataframe\">\n",
       "  <thead>\n",
       "    <tr style=\"text-align: right;\">\n",
       "      <th>employee</th>\n",
       "      <th>4000175</th>\n",
       "      <th>4000182</th>\n",
       "      <th>4000220</th>\n",
       "      <th>4000239</th>\n",
       "      <th>4000240</th>\n",
       "      <th>4000241</th>\n",
       "      <th>4000243</th>\n",
       "      <th>4000244</th>\n",
       "      <th>4000245</th>\n",
       "      <th>4000246</th>\n",
       "      <th>...</th>\n",
       "      <th>9753767</th>\n",
       "      <th>9784946</th>\n",
       "      <th>9795581</th>\n",
       "      <th>9798848</th>\n",
       "      <th>9814343</th>\n",
       "      <th>9869495</th>\n",
       "      <th>9893478</th>\n",
       "      <th>9926881</th>\n",
       "      <th>9965178</th>\n",
       "      <th>9972531</th>\n",
       "    </tr>\n",
       "    <tr>\n",
       "      <th>date</th>\n",
       "      <th></th>\n",
       "      <th></th>\n",
       "      <th></th>\n",
       "      <th></th>\n",
       "      <th></th>\n",
       "      <th></th>\n",
       "      <th></th>\n",
       "      <th></th>\n",
       "      <th></th>\n",
       "      <th></th>\n",
       "      <th></th>\n",
       "      <th></th>\n",
       "      <th></th>\n",
       "      <th></th>\n",
       "      <th></th>\n",
       "      <th></th>\n",
       "      <th></th>\n",
       "      <th></th>\n",
       "      <th></th>\n",
       "      <th></th>\n",
       "      <th></th>\n",
       "    </tr>\n",
       "  </thead>\n",
       "  <tbody>\n",
       "    <tr>\n",
       "      <th>2022-08-23</th>\n",
       "      <td>525</td>\n",
       "      <td>732</td>\n",
       "      <td>585</td>\n",
       "      <td>627</td>\n",
       "      <td>732</td>\n",
       "      <td>627</td>\n",
       "      <td>732</td>\n",
       "      <td>627</td>\n",
       "      <td>480</td>\n",
       "      <td>732</td>\n",
       "      <td>...</td>\n",
       "      <td>633</td>\n",
       "      <td>640</td>\n",
       "      <td>898</td>\n",
       "      <td>530</td>\n",
       "      <td>480</td>\n",
       "      <td>908</td>\n",
       "      <td>480</td>\n",
       "      <td>1257</td>\n",
       "      <td>750</td>\n",
       "      <td>605</td>\n",
       "    </tr>\n",
       "    <tr>\n",
       "      <th>2022-08-24</th>\n",
       "      <td>1245</td>\n",
       "      <td>585</td>\n",
       "      <td>732</td>\n",
       "      <td>732</td>\n",
       "      <td>480</td>\n",
       "      <td>732</td>\n",
       "      <td>732</td>\n",
       "      <td>627</td>\n",
       "      <td>480</td>\n",
       "      <td>732</td>\n",
       "      <td>...</td>\n",
       "      <td>604</td>\n",
       "      <td>641</td>\n",
       "      <td>495</td>\n",
       "      <td>480</td>\n",
       "      <td>532</td>\n",
       "      <td>480</td>\n",
       "      <td>604</td>\n",
       "      <td>480</td>\n",
       "      <td>601</td>\n",
       "      <td>607</td>\n",
       "    </tr>\n",
       "    <tr>\n",
       "      <th>2022-08-25</th>\n",
       "      <td>480</td>\n",
       "      <td>732</td>\n",
       "      <td>732</td>\n",
       "      <td>732</td>\n",
       "      <td>732</td>\n",
       "      <td>732</td>\n",
       "      <td>627</td>\n",
       "      <td>480</td>\n",
       "      <td>480</td>\n",
       "      <td>732</td>\n",
       "      <td>...</td>\n",
       "      <td>495</td>\n",
       "      <td>642</td>\n",
       "      <td>480</td>\n",
       "      <td>994</td>\n",
       "      <td>536</td>\n",
       "      <td>894</td>\n",
       "      <td>605</td>\n",
       "      <td>531</td>\n",
       "      <td>599</td>\n",
       "      <td>603</td>\n",
       "    </tr>\n",
       "    <tr>\n",
       "      <th>2022-08-26</th>\n",
       "      <td>525</td>\n",
       "      <td>585</td>\n",
       "      <td>732</td>\n",
       "      <td>627</td>\n",
       "      <td>732</td>\n",
       "      <td>627</td>\n",
       "      <td>480</td>\n",
       "      <td>627</td>\n",
       "      <td>480</td>\n",
       "      <td>732</td>\n",
       "      <td>...</td>\n",
       "      <td>745</td>\n",
       "      <td>492</td>\n",
       "      <td>902</td>\n",
       "      <td>480</td>\n",
       "      <td>850</td>\n",
       "      <td>598</td>\n",
       "      <td>603</td>\n",
       "      <td>528</td>\n",
       "      <td>589</td>\n",
       "      <td>603</td>\n",
       "    </tr>\n",
       "    <tr>\n",
       "      <th>2022-08-27</th>\n",
       "      <td>480</td>\n",
       "      <td>732</td>\n",
       "      <td>732</td>\n",
       "      <td>732</td>\n",
       "      <td>627</td>\n",
       "      <td>627</td>\n",
       "      <td>732</td>\n",
       "      <td>480</td>\n",
       "      <td>480</td>\n",
       "      <td>732</td>\n",
       "      <td>...</td>\n",
       "      <td>494</td>\n",
       "      <td>642</td>\n",
       "      <td>494</td>\n",
       "      <td>531</td>\n",
       "      <td>895</td>\n",
       "      <td>911</td>\n",
       "      <td>747</td>\n",
       "      <td>480</td>\n",
       "      <td>602</td>\n",
       "      <td>589</td>\n",
       "    </tr>\n",
       "  </tbody>\n",
       "</table>\n",
       "<p>5 rows × 197 columns</p>\n",
       "</div>"
      ],
      "text/plain": [
       "employee    4000175  4000182  4000220  4000239  4000240  4000241  4000243  \\\n",
       "date                                                                        \n",
       "2022-08-23      525      732      585      627      732      627      732   \n",
       "2022-08-24     1245      585      732      732      480      732      732   \n",
       "2022-08-25      480      732      732      732      732      732      627   \n",
       "2022-08-26      525      585      732      627      732      627      480   \n",
       "2022-08-27      480      732      732      732      627      627      732   \n",
       "\n",
       "employee    4000244  4000245  4000246  ...  9753767  9784946  9795581  \\\n",
       "date                                   ...                              \n",
       "2022-08-23      627      480      732  ...      633      640      898   \n",
       "2022-08-24      627      480      732  ...      604      641      495   \n",
       "2022-08-25      480      480      732  ...      495      642      480   \n",
       "2022-08-26      627      480      732  ...      745      492      902   \n",
       "2022-08-27      480      480      732  ...      494      642      494   \n",
       "\n",
       "employee    9798848  9814343  9869495  9893478  9926881  9965178  9972531  \n",
       "date                                                                       \n",
       "2022-08-23      530      480      908      480     1257      750      605  \n",
       "2022-08-24      480      532      480      604      480      601      607  \n",
       "2022-08-25      994      536      894      605      531      599      603  \n",
       "2022-08-26      480      850      598      603      528      589      603  \n",
       "2022-08-27      531      895      911      747      480      602      589  \n",
       "\n",
       "[5 rows x 197 columns]"
      ]
     },
     "execution_count": 2,
     "metadata": {},
     "output_type": "execute_result"
    }
   ],
   "source": [
    "# Read in the data\n",
    "overtime_hours = pd.read_csv('../data/csv/work_hours_overtime.csv', index_col='date', parse_dates=True)\n",
    "base_hours = pd.read_csv('../data/csv/work_hours_base.csv', index_col='date', parse_dates=True)\n",
    "portions = pd.read_csv('../data/csv/portions.csv', index_col='date', parse_dates=True)\n",
    "employees = pd.read_csv('../data/csv/employees.csv', index_col='employee', dtype={'employee': str})\n",
    "\n",
    "overtime_hours.columns.name='employee'\n",
    "base_hours.columns.name='employee'\n",
    "\n",
    "# Calculate total work hours\n",
    "total_hours = overtime_hours + base_hours\n",
    "total_hours.head()"
   ]
  },
  {
   "cell_type": "code",
   "execution_count": 3,
   "metadata": {},
   "outputs": [],
   "source": [
    "# Splitting the job titles into different categories\n",
    "food_related = [\n",
    "    'آشپز 1',\n",
    "    'آشپز 2',\n",
    "    'سر آشپز',\n",
    "    'سر شیفت',\n",
    "    'سر شیفت آماده سازی',\n",
    "    'سر شیفت برنج',\n",
    "    'سردخانه دار',\n",
    "    'سرپرست تولید',\n",
    "    'قصاب',\n",
    "    'کمک آشپز',\n",
    "    'کمک انباردار',\n",
    "    'انباردار',\n",
    "    'اپراتور انبار',\n",
    "]\n",
    "\n",
    "distribution_related = [\n",
    "    'سرگارسون',\n",
    "    'گارسون',\n",
    "    'کارگر رستوران',\n",
    "    'کارگر ساده',\n",
    "]\n",
    "\n",
    "hr_related = [\n",
    "    'تعمیرکار',\n",
    "    'متصدی اداری',\n",
    "    'متصدی برنامه ریزی و سفارشات',\n",
    "    'مدیرپروژه',\n",
    "    'مسئول امور اداری و منابع انسانی',\n",
    "    'کارشناس',\n",
    "    'کارشناس سلامت ایمنی محیط',\n",
    "    'کارمند اداری',\n",
    "]"
   ]
  },
  {
   "cell_type": "code",
   "execution_count": 4,
   "metadata": {},
   "outputs": [],
   "source": [
    "# Total daily portions\n",
    "total_daily_portions = portions.sum(axis=1)\n",
    "\n",
    "# Categorize work hours\n",
    "categorized_work_hours = total_hours.transpose().groupby(employees['job_title'])\n",
    "portion_related_categorized_work_hours = categorized_work_hours.sum()\n",
    "total_daily_employees = categorized_work_hours.count().sum()"
   ]
  },
  {
   "cell_type": "code",
   "execution_count": 5,
   "metadata": {},
   "outputs": [],
   "source": [
    "# Extract related work hours\n",
    "food_work_hours = portion_related_categorized_work_hours.loc[food_related] # food related\n",
    "distribution_work_hours = portion_related_categorized_work_hours.loc[distribution_related] # distribution related\n",
    "\n",
    "# Divide the total daily work hours by the total daily portions for each job category\n",
    "food_time_cost = food_work_hours.divide(total_daily_portions, axis=1).transpose()\n",
    "distribution_time_cost = distribution_work_hours.divide(total_daily_portions, axis=1).transpose()\n",
    "\n",
    "# Calculate HR related time cost (total work hours of hr related employees / total number of employees)\n",
    "hr_work_hours = categorized_work_hours.sum().loc[hr_related] # hr related\n",
    "hr_time_cost = hr_work_hours.divide(total_daily_employees, axis=1).transpose()"
   ]
  },
  {
   "cell_type": "code",
   "execution_count": 11,
   "metadata": {},
   "outputs": [
    {
     "data": {
      "application/vnd.plotly.v1+json": {
       "config": {
        "plotlyServerURL": "https://plot.ly"
       },
       "data": [
        {
         "name": "HR",
         "type": "scatter",
         "x": [
          "2022-08-23T00:00:00",
          "2022-08-24T00:00:00",
          "2022-08-25T00:00:00",
          "2022-08-26T00:00:00",
          "2022-08-27T00:00:00",
          "2022-08-28T00:00:00",
          "2022-08-29T00:00:00",
          "2022-08-30T00:00:00",
          "2022-08-31T00:00:00",
          "2022-09-01T00:00:00",
          "2022-09-02T00:00:00",
          "2022-09-03T00:00:00",
          "2022-09-04T00:00:00",
          "2022-09-05T00:00:00",
          "2022-09-06T00:00:00",
          "2022-09-07T00:00:00",
          "2022-09-08T00:00:00",
          "2022-09-09T00:00:00",
          "2022-09-10T00:00:00",
          "2022-09-11T00:00:00",
          "2022-09-12T00:00:00",
          "2022-09-13T00:00:00",
          "2022-09-14T00:00:00",
          "2022-09-15T00:00:00",
          "2022-09-16T00:00:00",
          "2022-09-17T00:00:00",
          "2022-09-18T00:00:00",
          "2022-09-19T00:00:00",
          "2022-09-20T00:00:00",
          "2022-09-21T00:00:00",
          "2022-09-22T00:00:00"
         ],
         "y": [
          39.22335025380711,
          42.97969543147208,
          39.994923857868024,
          42.477157360406096,
          41.502538071065985,
          13.01522842639594,
          8.086294416243655,
          41.62944162436548,
          39.82233502538071,
          39.26395939086294,
          43.746192893401016,
          40.776649746192895,
          14.456852791878172,
          6.593908629441624,
          39.69543147208122,
          42.878172588832484,
          44.91370558375635,
          40.38578680203045,
          40.817258883248726,
          11.502538071065988,
          7.928934010152284,
          40.63451776649747,
          41.44162436548223,
          39.90862944162437,
          40.82233502538071,
          39.558375634517766,
          13.908629441624367,
          4.781725888324873,
          40.58375634517766,
          40.38578680203046,
          38.36040609137056
         ]
        },
        {
         "name": "Distribution",
         "type": "scatter",
         "x": [
          "2022-08-23T00:00:00",
          "2022-08-24T00:00:00",
          "2022-08-25T00:00:00",
          "2022-08-26T00:00:00",
          "2022-08-27T00:00:00",
          "2022-08-28T00:00:00",
          "2022-08-29T00:00:00",
          "2022-08-30T00:00:00",
          "2022-08-31T00:00:00",
          "2022-09-01T00:00:00",
          "2022-09-02T00:00:00",
          "2022-09-03T00:00:00",
          "2022-09-04T00:00:00",
          "2022-09-05T00:00:00",
          "2022-09-06T00:00:00",
          "2022-09-07T00:00:00",
          "2022-09-08T00:00:00",
          "2022-09-09T00:00:00",
          "2022-09-10T00:00:00",
          "2022-09-11T00:00:00",
          "2022-09-12T00:00:00",
          "2022-09-13T00:00:00",
          "2022-09-14T00:00:00",
          "2022-09-15T00:00:00",
          "2022-09-16T00:00:00",
          "2022-09-17T00:00:00",
          "2022-09-18T00:00:00",
          "2022-09-19T00:00:00",
          "2022-09-20T00:00:00",
          "2022-09-21T00:00:00",
          "2022-09-22T00:00:00"
         ],
         "y": [
          1.7866495300827374,
          1.8055533767354301,
          1.7015568068896985,
          1.6503910699369733,
          1.7147172734314484,
          1.4146153846153848,
          1.5679311865902075,
          1.8033766863236125,
          1.5847652654188402,
          1.6775947671211284,
          1.653453148778897,
          1.2234404755034913,
          1.488691437802908,
          1.234597728920029,
          1.7504355762050943,
          6.820882352941176,
          7.453927235634138,
          2.830932524639879,
          1.6849464036041635,
          1.6713035323538605,
          1.1754170755642788,
          1.763374485596708,
          1.470955652717052,
          1.265349454438219,
          1.6414879050661797,
          1.0986351756848323,
          0.890721940214326,
          0.7777144485608436,
          1.6553882725832012,
          1.495142936441854,
          1.7831124513927465
         ]
        },
        {
         "name": "Food",
         "type": "scatter",
         "x": [
          "2022-08-23T00:00:00",
          "2022-08-24T00:00:00",
          "2022-08-25T00:00:00",
          "2022-08-26T00:00:00",
          "2022-08-27T00:00:00",
          "2022-08-28T00:00:00",
          "2022-08-29T00:00:00",
          "2022-08-30T00:00:00",
          "2022-08-31T00:00:00",
          "2022-09-01T00:00:00",
          "2022-09-02T00:00:00",
          "2022-09-03T00:00:00",
          "2022-09-04T00:00:00",
          "2022-09-05T00:00:00",
          "2022-09-06T00:00:00",
          "2022-09-07T00:00:00",
          "2022-09-08T00:00:00",
          "2022-09-09T00:00:00",
          "2022-09-10T00:00:00",
          "2022-09-11T00:00:00",
          "2022-09-12T00:00:00",
          "2022-09-13T00:00:00",
          "2022-09-14T00:00:00",
          "2022-09-15T00:00:00",
          "2022-09-16T00:00:00",
          "2022-09-17T00:00:00",
          "2022-09-18T00:00:00",
          "2022-09-19T00:00:00",
          "2022-09-20T00:00:00",
          "2022-09-21T00:00:00",
          "2022-09-22T00:00:00"
         ],
         "y": [
          7.086271989718049,
          6.69927053102204,
          7.047946339847632,
          6.747437163034397,
          6.639194422927963,
          3.140923076923077,
          5.65968239964711,
          7.045641812747394,
          6.601258054617981,
          6.706517456064308,
          6.135299659395609,
          4.838190316809972,
          4.170113085621971,
          6.231215269388741,
          7.18609474819547,
          31.442352941176466,
          37.42162529751785,
          10.639373262572654,
          6.704210035730931,
          3.670365739293529,
          7.3653091265947,
          7.24312757201646,
          6.165833853841351,
          5.447891477440283,
          6.853491556366955,
          4.525602555415739,
          2.807670614777214,
          2.628384155029923,
          6.593185419968305,
          6.102137107965584,
          7.186016982779145
         ]
        }
       ],
       "layout": {
        "legend": {
         "title": {
          "text": "Job Category"
         }
        },
        "template": {
         "data": {
          "bar": [
           {
            "error_x": {
             "color": "#2a3f5f"
            },
            "error_y": {
             "color": "#2a3f5f"
            },
            "marker": {
             "line": {
              "color": "#E5ECF6",
              "width": 0.5
             },
             "pattern": {
              "fillmode": "overlay",
              "size": 10,
              "solidity": 0.2
             }
            },
            "type": "bar"
           }
          ],
          "barpolar": [
           {
            "marker": {
             "line": {
              "color": "#E5ECF6",
              "width": 0.5
             },
             "pattern": {
              "fillmode": "overlay",
              "size": 10,
              "solidity": 0.2
             }
            },
            "type": "barpolar"
           }
          ],
          "carpet": [
           {
            "aaxis": {
             "endlinecolor": "#2a3f5f",
             "gridcolor": "white",
             "linecolor": "white",
             "minorgridcolor": "white",
             "startlinecolor": "#2a3f5f"
            },
            "baxis": {
             "endlinecolor": "#2a3f5f",
             "gridcolor": "white",
             "linecolor": "white",
             "minorgridcolor": "white",
             "startlinecolor": "#2a3f5f"
            },
            "type": "carpet"
           }
          ],
          "choropleth": [
           {
            "colorbar": {
             "outlinewidth": 0,
             "ticks": ""
            },
            "type": "choropleth"
           }
          ],
          "contour": [
           {
            "colorbar": {
             "outlinewidth": 0,
             "ticks": ""
            },
            "colorscale": [
             [
              0,
              "#0d0887"
             ],
             [
              0.1111111111111111,
              "#46039f"
             ],
             [
              0.2222222222222222,
              "#7201a8"
             ],
             [
              0.3333333333333333,
              "#9c179e"
             ],
             [
              0.4444444444444444,
              "#bd3786"
             ],
             [
              0.5555555555555556,
              "#d8576b"
             ],
             [
              0.6666666666666666,
              "#ed7953"
             ],
             [
              0.7777777777777778,
              "#fb9f3a"
             ],
             [
              0.8888888888888888,
              "#fdca26"
             ],
             [
              1,
              "#f0f921"
             ]
            ],
            "type": "contour"
           }
          ],
          "contourcarpet": [
           {
            "colorbar": {
             "outlinewidth": 0,
             "ticks": ""
            },
            "type": "contourcarpet"
           }
          ],
          "heatmap": [
           {
            "colorbar": {
             "outlinewidth": 0,
             "ticks": ""
            },
            "colorscale": [
             [
              0,
              "#0d0887"
             ],
             [
              0.1111111111111111,
              "#46039f"
             ],
             [
              0.2222222222222222,
              "#7201a8"
             ],
             [
              0.3333333333333333,
              "#9c179e"
             ],
             [
              0.4444444444444444,
              "#bd3786"
             ],
             [
              0.5555555555555556,
              "#d8576b"
             ],
             [
              0.6666666666666666,
              "#ed7953"
             ],
             [
              0.7777777777777778,
              "#fb9f3a"
             ],
             [
              0.8888888888888888,
              "#fdca26"
             ],
             [
              1,
              "#f0f921"
             ]
            ],
            "type": "heatmap"
           }
          ],
          "heatmapgl": [
           {
            "colorbar": {
             "outlinewidth": 0,
             "ticks": ""
            },
            "colorscale": [
             [
              0,
              "#0d0887"
             ],
             [
              0.1111111111111111,
              "#46039f"
             ],
             [
              0.2222222222222222,
              "#7201a8"
             ],
             [
              0.3333333333333333,
              "#9c179e"
             ],
             [
              0.4444444444444444,
              "#bd3786"
             ],
             [
              0.5555555555555556,
              "#d8576b"
             ],
             [
              0.6666666666666666,
              "#ed7953"
             ],
             [
              0.7777777777777778,
              "#fb9f3a"
             ],
             [
              0.8888888888888888,
              "#fdca26"
             ],
             [
              1,
              "#f0f921"
             ]
            ],
            "type": "heatmapgl"
           }
          ],
          "histogram": [
           {
            "marker": {
             "pattern": {
              "fillmode": "overlay",
              "size": 10,
              "solidity": 0.2
             }
            },
            "type": "histogram"
           }
          ],
          "histogram2d": [
           {
            "colorbar": {
             "outlinewidth": 0,
             "ticks": ""
            },
            "colorscale": [
             [
              0,
              "#0d0887"
             ],
             [
              0.1111111111111111,
              "#46039f"
             ],
             [
              0.2222222222222222,
              "#7201a8"
             ],
             [
              0.3333333333333333,
              "#9c179e"
             ],
             [
              0.4444444444444444,
              "#bd3786"
             ],
             [
              0.5555555555555556,
              "#d8576b"
             ],
             [
              0.6666666666666666,
              "#ed7953"
             ],
             [
              0.7777777777777778,
              "#fb9f3a"
             ],
             [
              0.8888888888888888,
              "#fdca26"
             ],
             [
              1,
              "#f0f921"
             ]
            ],
            "type": "histogram2d"
           }
          ],
          "histogram2dcontour": [
           {
            "colorbar": {
             "outlinewidth": 0,
             "ticks": ""
            },
            "colorscale": [
             [
              0,
              "#0d0887"
             ],
             [
              0.1111111111111111,
              "#46039f"
             ],
             [
              0.2222222222222222,
              "#7201a8"
             ],
             [
              0.3333333333333333,
              "#9c179e"
             ],
             [
              0.4444444444444444,
              "#bd3786"
             ],
             [
              0.5555555555555556,
              "#d8576b"
             ],
             [
              0.6666666666666666,
              "#ed7953"
             ],
             [
              0.7777777777777778,
              "#fb9f3a"
             ],
             [
              0.8888888888888888,
              "#fdca26"
             ],
             [
              1,
              "#f0f921"
             ]
            ],
            "type": "histogram2dcontour"
           }
          ],
          "mesh3d": [
           {
            "colorbar": {
             "outlinewidth": 0,
             "ticks": ""
            },
            "type": "mesh3d"
           }
          ],
          "parcoords": [
           {
            "line": {
             "colorbar": {
              "outlinewidth": 0,
              "ticks": ""
             }
            },
            "type": "parcoords"
           }
          ],
          "pie": [
           {
            "automargin": true,
            "type": "pie"
           }
          ],
          "scatter": [
           {
            "fillpattern": {
             "fillmode": "overlay",
             "size": 10,
             "solidity": 0.2
            },
            "type": "scatter"
           }
          ],
          "scatter3d": [
           {
            "line": {
             "colorbar": {
              "outlinewidth": 0,
              "ticks": ""
             }
            },
            "marker": {
             "colorbar": {
              "outlinewidth": 0,
              "ticks": ""
             }
            },
            "type": "scatter3d"
           }
          ],
          "scattercarpet": [
           {
            "marker": {
             "colorbar": {
              "outlinewidth": 0,
              "ticks": ""
             }
            },
            "type": "scattercarpet"
           }
          ],
          "scattergeo": [
           {
            "marker": {
             "colorbar": {
              "outlinewidth": 0,
              "ticks": ""
             }
            },
            "type": "scattergeo"
           }
          ],
          "scattergl": [
           {
            "marker": {
             "colorbar": {
              "outlinewidth": 0,
              "ticks": ""
             }
            },
            "type": "scattergl"
           }
          ],
          "scattermapbox": [
           {
            "marker": {
             "colorbar": {
              "outlinewidth": 0,
              "ticks": ""
             }
            },
            "type": "scattermapbox"
           }
          ],
          "scatterpolar": [
           {
            "marker": {
             "colorbar": {
              "outlinewidth": 0,
              "ticks": ""
             }
            },
            "type": "scatterpolar"
           }
          ],
          "scatterpolargl": [
           {
            "marker": {
             "colorbar": {
              "outlinewidth": 0,
              "ticks": ""
             }
            },
            "type": "scatterpolargl"
           }
          ],
          "scatterternary": [
           {
            "marker": {
             "colorbar": {
              "outlinewidth": 0,
              "ticks": ""
             }
            },
            "type": "scatterternary"
           }
          ],
          "surface": [
           {
            "colorbar": {
             "outlinewidth": 0,
             "ticks": ""
            },
            "colorscale": [
             [
              0,
              "#0d0887"
             ],
             [
              0.1111111111111111,
              "#46039f"
             ],
             [
              0.2222222222222222,
              "#7201a8"
             ],
             [
              0.3333333333333333,
              "#9c179e"
             ],
             [
              0.4444444444444444,
              "#bd3786"
             ],
             [
              0.5555555555555556,
              "#d8576b"
             ],
             [
              0.6666666666666666,
              "#ed7953"
             ],
             [
              0.7777777777777778,
              "#fb9f3a"
             ],
             [
              0.8888888888888888,
              "#fdca26"
             ],
             [
              1,
              "#f0f921"
             ]
            ],
            "type": "surface"
           }
          ],
          "table": [
           {
            "cells": {
             "fill": {
              "color": "#EBF0F8"
             },
             "line": {
              "color": "white"
             }
            },
            "header": {
             "fill": {
              "color": "#C8D4E3"
             },
             "line": {
              "color": "white"
             }
            },
            "type": "table"
           }
          ]
         },
         "layout": {
          "annotationdefaults": {
           "arrowcolor": "#2a3f5f",
           "arrowhead": 0,
           "arrowwidth": 1
          },
          "autotypenumbers": "strict",
          "coloraxis": {
           "colorbar": {
            "outlinewidth": 0,
            "ticks": ""
           }
          },
          "colorscale": {
           "diverging": [
            [
             0,
             "#8e0152"
            ],
            [
             0.1,
             "#c51b7d"
            ],
            [
             0.2,
             "#de77ae"
            ],
            [
             0.3,
             "#f1b6da"
            ],
            [
             0.4,
             "#fde0ef"
            ],
            [
             0.5,
             "#f7f7f7"
            ],
            [
             0.6,
             "#e6f5d0"
            ],
            [
             0.7,
             "#b8e186"
            ],
            [
             0.8,
             "#7fbc41"
            ],
            [
             0.9,
             "#4d9221"
            ],
            [
             1,
             "#276419"
            ]
           ],
           "sequential": [
            [
             0,
             "#0d0887"
            ],
            [
             0.1111111111111111,
             "#46039f"
            ],
            [
             0.2222222222222222,
             "#7201a8"
            ],
            [
             0.3333333333333333,
             "#9c179e"
            ],
            [
             0.4444444444444444,
             "#bd3786"
            ],
            [
             0.5555555555555556,
             "#d8576b"
            ],
            [
             0.6666666666666666,
             "#ed7953"
            ],
            [
             0.7777777777777778,
             "#fb9f3a"
            ],
            [
             0.8888888888888888,
             "#fdca26"
            ],
            [
             1,
             "#f0f921"
            ]
           ],
           "sequentialminus": [
            [
             0,
             "#0d0887"
            ],
            [
             0.1111111111111111,
             "#46039f"
            ],
            [
             0.2222222222222222,
             "#7201a8"
            ],
            [
             0.3333333333333333,
             "#9c179e"
            ],
            [
             0.4444444444444444,
             "#bd3786"
            ],
            [
             0.5555555555555556,
             "#d8576b"
            ],
            [
             0.6666666666666666,
             "#ed7953"
            ],
            [
             0.7777777777777778,
             "#fb9f3a"
            ],
            [
             0.8888888888888888,
             "#fdca26"
            ],
            [
             1,
             "#f0f921"
            ]
           ]
          },
          "colorway": [
           "#636efa",
           "#EF553B",
           "#00cc96",
           "#ab63fa",
           "#FFA15A",
           "#19d3f3",
           "#FF6692",
           "#B6E880",
           "#FF97FF",
           "#FECB52"
          ],
          "font": {
           "color": "#2a3f5f"
          },
          "geo": {
           "bgcolor": "white",
           "lakecolor": "white",
           "landcolor": "#E5ECF6",
           "showlakes": true,
           "showland": true,
           "subunitcolor": "white"
          },
          "hoverlabel": {
           "align": "left"
          },
          "hovermode": "closest",
          "mapbox": {
           "style": "light"
          },
          "paper_bgcolor": "white",
          "plot_bgcolor": "#E5ECF6",
          "polar": {
           "angularaxis": {
            "gridcolor": "white",
            "linecolor": "white",
            "ticks": ""
           },
           "bgcolor": "#E5ECF6",
           "radialaxis": {
            "gridcolor": "white",
            "linecolor": "white",
            "ticks": ""
           }
          },
          "scene": {
           "xaxis": {
            "backgroundcolor": "#E5ECF6",
            "gridcolor": "white",
            "gridwidth": 2,
            "linecolor": "white",
            "showbackground": true,
            "ticks": "",
            "zerolinecolor": "white"
           },
           "yaxis": {
            "backgroundcolor": "#E5ECF6",
            "gridcolor": "white",
            "gridwidth": 2,
            "linecolor": "white",
            "showbackground": true,
            "ticks": "",
            "zerolinecolor": "white"
           },
           "zaxis": {
            "backgroundcolor": "#E5ECF6",
            "gridcolor": "white",
            "gridwidth": 2,
            "linecolor": "white",
            "showbackground": true,
            "ticks": "",
            "zerolinecolor": "white"
           }
          },
          "shapedefaults": {
           "line": {
            "color": "#2a3f5f"
           }
          },
          "ternary": {
           "aaxis": {
            "gridcolor": "white",
            "linecolor": "white",
            "ticks": ""
           },
           "baxis": {
            "gridcolor": "white",
            "linecolor": "white",
            "ticks": ""
           },
           "bgcolor": "#E5ECF6",
           "caxis": {
            "gridcolor": "white",
            "linecolor": "white",
            "ticks": ""
           }
          },
          "title": {
           "x": 0.05
          },
          "xaxis": {
           "automargin": true,
           "gridcolor": "white",
           "linecolor": "white",
           "ticks": "",
           "title": {
            "standoff": 15
           },
           "zerolinecolor": "white",
           "zerolinewidth": 2
          },
          "yaxis": {
           "automargin": true,
           "gridcolor": "white",
           "linecolor": "white",
           "ticks": "",
           "title": {
            "standoff": 15
           },
           "zerolinecolor": "white",
           "zerolinewidth": 2
          }
         }
        },
        "title": {
         "text": "Time Cost"
        },
        "xaxis": {
         "title": {
          "text": "Date"
         }
        },
        "yaxis": {
         "title": {
          "text": "Time Cost (minutes/portion(employee for HR))"
         }
        }
       }
      }
     },
     "metadata": {},
     "output_type": "display_data"
    }
   ],
   "source": [
    "# Plot the time cost tables\n",
    "fig = go.Figure()\n",
    "fig.add_trace(go.Scatter(x=hr_time_cost.index, y=hr_time_cost.sum(axis=1), name='HR'))\n",
    "fig.add_trace(go.Scatter(x=distribution_time_cost.index, y=distribution_time_cost.sum(axis=1), name='Distribution'))\n",
    "fig.add_trace(go.Scatter(x=food_time_cost.index, y=food_time_cost.sum(axis=1), name='Food'))\n",
    "fig.update_layout(\n",
    "    title='Time Cost',\n",
    "    xaxis_title='Date',\n",
    "    yaxis_title='Time Cost (minutes/portion(employee for HR))',\n",
    "    legend_title='Job Category',\n",
    ")\n",
    "fig.show()"
   ]
  },
  {
   "cell_type": "code",
   "execution_count": null,
   "metadata": {},
   "outputs": [],
   "source": []
  }
 ],
 "metadata": {
  "kernelspec": {
   "display_name": "lin_opt",
   "language": "python",
   "name": "python3"
  },
  "language_info": {
   "codemirror_mode": {
    "name": "ipython",
    "version": 3
   },
   "file_extension": ".py",
   "mimetype": "text/x-python",
   "name": "python",
   "nbconvert_exporter": "python",
   "pygments_lexer": "ipython3",
   "version": "3.8.15"
  },
  "orig_nbformat": 4,
  "vscode": {
   "interpreter": {
    "hash": "345842b8d5f1243713e71f72b8f6a510645b3f72992289f959e1f230ea23600c"
   }
  }
 },
 "nbformat": 4,
 "nbformat_minor": 2
}
