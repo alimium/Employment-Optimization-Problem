{
 "cells": [
  {
   "cell_type": "code",
   "execution_count": null,
   "metadata": {},
   "outputs": [],
   "source": [
    "import pandas as pd\n",
    "import numpy as np\n",
    "import matplotlib.pyplot as plt"
   ]
  },
  {
   "cell_type": "code",
   "execution_count": null,
   "metadata": {},
   "outputs": [],
   "source": [
    "# load in the data\n",
    "overtime_hours = pd.read_csv('../data/csv/work_hours_overtime.csv', index_col='key', parse_dates=True)\n",
    "base_hours = pd.read_csv('../data/csv/work_hours_normal.csv', index_col='key', parse_dates=True)\n",
    "employees = pd.read_csv('../data/csv/employees.csv', index_col='key', parse_dates=True)\n",
    "(overtime_hours+base_hours).groupby(employees['job_title']).sum()"
   ]
  },
  {
   "cell_type": "code",
   "execution_count": null,
   "metadata": {},
   "outputs": [],
   "source": [
    "# Splitting the job titles into different categories\n",
    "food_related = [\n",
    "    'آشپز 1',\n",
    "    'آشپز 2',\n",
    "    'سر آشپز',\n",
    "    'سر شیفت',\n",
    "    'سر شیفت آماده سازی',\n",
    "    'سر شیفت برنج',\n",
    "    'سردخانه دار',\n",
    "    'سرپرست تولید',\n",
    "    'قصاب',\n",
    "    'کمک آشپز',\n",
    "    'کمک انباردار',\n",
    "    'انباردار',\n",
    "    'اپراتور انبار',\n",
    "]\n",
    "\n",
    "distribution_related = [\n",
    "    'سرگارسون',\n",
    "    'گارسون\t',\n",
    "    'کارگر رستوران',\n",
    "    'کارگر ساده',\n",
    "]\n",
    "\n",
    "hr_related = [\n",
    "    'تعمیرکار',\n",
    "    'متصدی اداری',\n",
    "    'متصدی برنامه ریزی و سفارشات',\n",
    "    'مدیرپروژه',\n",
    "    'مسئول امور اداری و منابع انسانی',\n",
    "    'کارشناس',\n",
    "    'کارشناس سلامت ایمنی محیط',\n",
    "    'کارمند اداری',\n",
    "    'گارسون'\n",
    "]"
   ]
  },
  {
   "cell_type": "code",
   "execution_count": null,
   "metadata": {},
   "outputs": [],
   "source": [
    "# replace wage for 0 entries in employees\n",
    "employees.loc[employees['job_title'] == 'آشپز 1', 'wage'] = 80867239\n",
    "employees.loc[employees['job_title'] == 'آشپز 2', 'wage'] = 80680940\n",
    "employees.loc[employees['job_title'] == 'سر آشپز', 'wage'] = 233201362\n",
    "employees.loc[employees['job_title'] == 'انباردار', 'wage'] = 79618760\n",
    "employees.loc[employees['job_title'] == 'قصاب', 'wage'] = 64595060\n",
    "employees.loc[employees['job_title'] == 'کمک آشپز', 'wage'] = 64595060\n",
    "employees.loc[employees['job_title'] == 'کمک انباردار', 'wage'] = 69141660\n",
    "employees.loc[employees['job_title'] == 'اپراتور انبار', 'wage'] = 91966783\n",
    "employees.loc[employees['job_title'] == 'تعمیرکار', 'wage'] = 76858760\n",
    "employees.loc[employees['job_title'] == 'سر شیفت', 'wage'] = 111038520\n",
    "employees.loc[employees['job_title'] == 'سر شیفت آماده سازی', 'wage'] = 105218260\n",
    "employees.loc[employees['job_title'] == 'سر شیفت برنج', 'wage'] = 104618760\n",
    "employees.loc[employees['job_title'] == 'سردخانه دار', 'wage'] = 71365860\n",
    "employees.loc[employees['job_title'] == 'سرگارسون', 'wage'] = 76615620\n",
    "employees.loc[employees['job_title'] == 'متصدی اداری', 'wage'] = 83798520\n",
    "employees.loc[employees['job_title'] == 'متصدی برنامه ریزی و سفارشات', 'wage'] = 77547587\n",
    "employees.loc[employees['job_title'] == 'مدیرپروژه', 'wage'] = 122705979\n",
    "employees.loc[employees['job_title'] == 'کارشناس', 'wage'] = 114447637\n",
    "employees.loc[employees['job_title'] == 'کارگر ساده', 'wage'] = 60967627\n",
    "employees.loc[employees['job_title'] == 'گارسون', 'wage'] = 112758936\n",
    "employees.loc[employees['job_title'] == 'کارشناس سلامت ایمنی محیط', 'wage'] = 73912460\n",
    "employees.loc[employees['job_title'] == 'کارمند اداری', 'wage'] = 64595060\n",
    "employees.loc[employees['job_title'] == 'کارگر رستوران', 'wage'] = 66738428\n",
    "\n",
    "# Checking for missing values\n",
    "joined_with_overtime = overtime_hours.join(employees, on='key', how='left')\n",
    "joined_with_base = base_hours.join(employees, on='key', how='left')\n",
    "(\n",
    "    joined_with_overtime['job_title'].hasnans,\n",
    "    joined_with_overtime['wage'].hasnans,\n",
    "    joined_with_base['job_title'].hasnans,\n",
    "    joined_with_base['wage'].hasnans\n",
    ")"
   ]
  }
 ],
 "metadata": {
  "kernelspec": {
   "display_name": "lin_opt",
   "language": "python",
   "name": "python3"
  },
  "language_info": {
   "codemirror_mode": {
    "name": "ipython",
    "version": 3
   },
   "file_extension": ".py",
   "mimetype": "text/x-python",
   "name": "python",
   "nbconvert_exporter": "python",
   "pygments_lexer": "ipython3",
   "version": "3.8.15"
  },
  "orig_nbformat": 4,
  "vscode": {
   "interpreter": {
    "hash": "345842b8d5f1243713e71f72b8f6a510645b3f72992289f959e1f230ea23600c"
   }
  }
 },
 "nbformat": 4,
 "nbformat_minor": 2
}
