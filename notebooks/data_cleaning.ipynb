{
 "cells": [
  {
   "cell_type": "code",
   "execution_count": 17,
   "metadata": {},
   "outputs": [],
   "source": [
    "import pandas as pd\n",
    "import numpy as np\n",
    "import matplotlib.pyplot as plt"
   ]
  },
  {
   "cell_type": "code",
   "execution_count": 18,
   "metadata": {},
   "outputs": [],
   "source": [
    "# Load in the data\n",
    "overtime_hours = pd.read_csv('../data/csv/work_hours_overtime.csv', index_col='key', parse_dates=True)\n",
    "base_hours = pd.read_csv('../data/csv/work_hours_normal.csv', index_col='key', parse_dates=True)\n",
    "employees = pd.read_csv('../data/csv/employees.csv', index_col='key', parse_dates=True)"
   ]
  },
  {
   "cell_type": "code",
   "execution_count": 19,
   "metadata": {},
   "outputs": [
    {
     "data": {
      "text/plain": [
       "(False, False, False, False)"
      ]
     },
     "execution_count": 19,
     "metadata": {},
     "output_type": "execute_result"
    }
   ],
   "source": [
    "# Replace wage for 0 entries in employees\n",
    "employees.loc[employees['job_title'] == 'آشپز 1', 'wage'] = 80867239\n",
    "employees.loc[employees['job_title'] == 'آشپز 2', 'wage'] = 80680940\n",
    "employees.loc[employees['job_title'] == 'سر آشپز', 'wage'] = 233201362\n",
    "employees.loc[employees['job_title'] == 'انباردار', 'wage'] = 79618760\n",
    "employees.loc[employees['job_title'] == 'قصاب', 'wage'] = 64595060\n",
    "employees.loc[employees['job_title'] == 'کمک آشپز', 'wage'] = 64595060\n",
    "employees.loc[employees['job_title'] == 'کمک انباردار', 'wage'] = 69141660\n",
    "employees.loc[employees['job_title'] == 'اپراتور انبار', 'wage'] = 91966783\n",
    "employees.loc[employees['job_title'] == 'تعمیرکار', 'wage'] = 76858760\n",
    "employees.loc[employees['job_title'] == 'سر شیفت', 'wage'] = 111038520\n",
    "employees.loc[employees['job_title'] == 'سر شیفت آماده سازی', 'wage'] = 105218260\n",
    "employees.loc[employees['job_title'] == 'سر شیفت برنج', 'wage'] = 104618760\n",
    "employees.loc[employees['job_title'] == 'سردخانه دار', 'wage'] = 71365860\n",
    "employees.loc[employees['job_title'] == 'سرگارسون', 'wage'] = 76615620\n",
    "employees.loc[employees['job_title'] == 'متصدی اداری', 'wage'] = 83798520\n",
    "employees.loc[employees['job_title'] == 'متصدی برنامه ریزی و سفارشات', 'wage'] = 77547587\n",
    "employees.loc[employees['job_title'] == 'مدیرپروژه', 'wage'] = 122705979\n",
    "employees.loc[employees['job_title'] == 'کارشناس', 'wage'] = 114447637\n",
    "employees.loc[employees['job_title'] == 'کارگر ساده', 'wage'] = 60967627\n",
    "employees.loc[employees['job_title'] == 'گارسون', 'wage'] = 112758936\n",
    "employees.loc[employees['job_title'] == 'کارشناس سلامت ایمنی محیط', 'wage'] = 73912460\n",
    "employees.loc[employees['job_title'] == 'کارمند اداری', 'wage'] = 64595060\n",
    "employees.loc[employees['job_title'] == 'کارگر رستوران', 'wage'] = 66738428\n",
    "\n",
    "# Checking for missing values\n",
    "joined_with_overtime = overtime_hours.join(employees, on='key', how='left')\n",
    "joined_with_base = base_hours.join(employees, on='key', how='left')\n",
    "(\n",
    "    joined_with_overtime['job_title'].hasnans,\n",
    "    joined_with_overtime['wage'].hasnans,\n",
    "    joined_with_base['job_title'].hasnans,\n",
    "    joined_with_base['wage'].hasnans\n",
    ")"
   ]
  },
  {
   "cell_type": "code",
   "execution_count": 20,
   "metadata": {},
   "outputs": [],
   "source": [
    "# remove rows with job_title NaNs in employees\n",
    "employees = employees.dropna() # These employees are not in the work_hours dataset"
   ]
  },
  {
   "cell_type": "code",
   "execution_count": 21,
   "metadata": {},
   "outputs": [
    {
     "name": "stdout",
     "output_type": "stream",
     "text": [
      "No NaNs found in work_hours\n",
      "No NaNs found in employees\n"
     ]
    }
   ],
   "source": [
    "total_hours = base_hours + overtime_hours\n",
    "\n",
    "# Check for NaNs in work hours\n",
    "for col in total_hours.columns:\n",
    "    if total_hours[col].hasnans:\n",
    "        print(f'Column {col} has NaNs')\n",
    "        break\n",
    "else:\n",
    "    print('No NaNs found in work_hours') # All data is intact \n",
    "\n",
    "# Check for NaNs in employees\n",
    "for col in employees.columns:\n",
    "    if employees[col].hasnans:\n",
    "        print(f'Column {col} has NaNs')\n",
    "        break\n",
    "else:\n",
    "    print('No NaNs found in employees') # All data is intact"
   ]
  },
  {
   "cell_type": "code",
   "execution_count": 22,
   "metadata": {},
   "outputs": [
    {
     "data": {
      "text/html": [
       "<div>\n",
       "<style scoped>\n",
       "    .dataframe tbody tr th:only-of-type {\n",
       "        vertical-align: middle;\n",
       "    }\n",
       "\n",
       "    .dataframe tbody tr th {\n",
       "        vertical-align: top;\n",
       "    }\n",
       "\n",
       "    .dataframe thead th {\n",
       "        text-align: right;\n",
       "    }\n",
       "</style>\n",
       "<table border=\"1\" class=\"dataframe\">\n",
       "  <thead>\n",
       "    <tr style=\"text-align: right;\">\n",
       "      <th></th>\n",
       "      <th>job_title</th>\n",
       "      <th>wage</th>\n",
       "    </tr>\n",
       "    <tr>\n",
       "      <th>key</th>\n",
       "      <th></th>\n",
       "      <th></th>\n",
       "    </tr>\n",
       "  </thead>\n",
       "  <tbody>\n",
       "    <tr>\n",
       "      <th>8739231</th>\n",
       "      <td>کارشناس سلامت ایمنی محیط</td>\n",
       "      <td>73912460.0</td>\n",
       "    </tr>\n",
       "    <tr>\n",
       "      <th>8840066</th>\n",
       "      <td>اپراتور انبار</td>\n",
       "      <td>91966783.0</td>\n",
       "    </tr>\n",
       "    <tr>\n",
       "      <th>9736325</th>\n",
       "      <td>اپراتور انبار</td>\n",
       "      <td>91966783.0</td>\n",
       "    </tr>\n",
       "    <tr>\n",
       "      <th>8739061</th>\n",
       "      <td>انباردار</td>\n",
       "      <td>79618760.0</td>\n",
       "    </tr>\n",
       "    <tr>\n",
       "      <th>8739273</th>\n",
       "      <td>انباردار</td>\n",
       "      <td>79618760.0</td>\n",
       "    </tr>\n",
       "    <tr>\n",
       "      <th>...</th>\n",
       "      <td>...</td>\n",
       "      <td>...</td>\n",
       "    </tr>\n",
       "    <tr>\n",
       "      <th>9746477</th>\n",
       "      <td>متصدی اداری</td>\n",
       "      <td>83798520.0</td>\n",
       "    </tr>\n",
       "    <tr>\n",
       "      <th>9557844</th>\n",
       "      <td>متصدی اداری</td>\n",
       "      <td>83798520.0</td>\n",
       "    </tr>\n",
       "    <tr>\n",
       "      <th>8752108</th>\n",
       "      <td>متصدی برنامه ریزی و سفارشات</td>\n",
       "      <td>77547587.0</td>\n",
       "    </tr>\n",
       "    <tr>\n",
       "      <th>9627178</th>\n",
       "      <td>مدیرپروژه</td>\n",
       "      <td>122705979.0</td>\n",
       "    </tr>\n",
       "    <tr>\n",
       "      <th>8596766</th>\n",
       "      <td>مسئول امور اداری و منابع انسانی</td>\n",
       "      <td>106084490.0</td>\n",
       "    </tr>\n",
       "  </tbody>\n",
       "</table>\n",
       "<p>197 rows × 2 columns</p>\n",
       "</div>"
      ],
      "text/plain": [
       "                               job_title         wage\n",
       "key                                                  \n",
       "8739231         کارشناس سلامت ایمنی محیط   73912460.0\n",
       "8840066                    اپراتور انبار   91966783.0\n",
       "9736325                    اپراتور انبار   91966783.0\n",
       "8739061                         انباردار   79618760.0\n",
       "8739273                         انباردار   79618760.0\n",
       "...                                  ...          ...\n",
       "9746477                      متصدی اداری   83798520.0\n",
       "9557844                      متصدی اداری   83798520.0\n",
       "8752108      متصدی برنامه ریزی و سفارشات   77547587.0\n",
       "9627178                        مدیرپروژه  122705979.0\n",
       "8596766  مسئول امور اداری و منابع انسانی  106084490.0\n",
       "\n",
       "[197 rows x 2 columns]"
      ]
     },
     "execution_count": 22,
     "metadata": {},
     "output_type": "execute_result"
    }
   ],
   "source": [
    "# Only the employees present in the work_hours dataset are considered\n",
    "employees[employees.index.isin(total_hours.index)] # 100% match with work_hours (197 rows)"
   ]
  },
  {
   "cell_type": "code",
   "execution_count": 23,
   "metadata": {},
   "outputs": [],
   "source": [
    "# Export to CSV\n",
    "employees.to_csv('../data/csv/employees.csv')"
   ]
  }
 ],
 "metadata": {
  "kernelspec": {
   "display_name": "lin_opt",
   "language": "python",
   "name": "python3"
  },
  "language_info": {
   "codemirror_mode": {
    "name": "ipython",
    "version": 3
   },
   "file_extension": ".py",
   "mimetype": "text/x-python",
   "name": "python",
   "nbconvert_exporter": "python",
   "pygments_lexer": "ipython3",
   "version": "3.8.15"
  },
  "orig_nbformat": 4,
  "vscode": {
   "interpreter": {
    "hash": "345842b8d5f1243713e71f72b8f6a510645b3f72992289f959e1f230ea23600c"
   }
  }
 },
 "nbformat": 4,
 "nbformat_minor": 2
}
